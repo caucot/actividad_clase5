{
 "cells": [
  {
   "cell_type": "markdown",
   "metadata": {},
   "source": [
    "### Calculadora\n",
    " Crea un programa que solicite al usuario dos números y una operación (suma, resta, multiplicación o división). Luego, utilizando estructuras condicionales (if, elif, else), realiza la operación seleccionada e imprime el resultado."
   ]
  },
  {
   "cell_type": "code",
   "execution_count": 7,
   "metadata": {},
   "outputs": [
    {
     "name": "stdout",
     "output_type": "stream",
     "text": [
      "Operaciones disponibles:\n",
      "1. Suma\n",
      "2. Resta\n",
      "3. Multiplicacion\n",
      "4. Division\n",
      "valor ingresado invalido\n"
     ]
    }
   ],
   "source": [
    "num1 = int(input('Ingrese el primer numero para operar'))\n",
    "num2 = int(input('Ingrese un segundo numero para operar'))\n",
    "\n",
    "print('Operaciones disponibles:')\n",
    "print('1. Suma')\n",
    "print('2. Resta')\n",
    "print('3. Multiplicacion')\n",
    "print('4. Division')\n",
    "\n",
    "operacion = int(input('Ingrese el indice de la operacion a realizar'))\n",
    "resultado = 0\n",
    "\n",
    "if operacion > 0 and operacion < 5:\n",
    "    if operacion == 1:\n",
    "        resultado = num1 + num2\n",
    "    elif operacion ==2:\n",
    "        resultado = num1 - num2\n",
    "    elif operacion == 3:\n",
    "        resultado = num1 * num2\n",
    "    elif operacion == 4:\n",
    "        resultado = num1 / num2\n",
    "    \n",
    "    print(f'El resultado de la operacion {operacion} entre los numeros {num1} y {num2} es {resultado}')\n",
    "else:\n",
    "    print('valor ingresado invalido')\n",
    "    \n"
   ]
  }
 ],
 "metadata": {
  "kernelspec": {
   "display_name": "Python 3",
   "language": "python",
   "name": "python3"
  },
  "language_info": {
   "codemirror_mode": {
    "name": "ipython",
    "version": 3
   },
   "file_extension": ".py",
   "mimetype": "text/x-python",
   "name": "python",
   "nbconvert_exporter": "python",
   "pygments_lexer": "ipython3",
   "version": "3.12.0"
  }
 },
 "nbformat": 4,
 "nbformat_minor": 2
}
