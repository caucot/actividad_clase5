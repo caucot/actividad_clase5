{
 "cells": [
  {
   "cell_type": "markdown",
   "metadata": {},
   "source": [
    "### Calculadora\n",
    " Crea un programa que solicite al usuario dos números y una operación (suma, resta, multiplicación o división). Luego, utilizando estructuras condicionales (if, elif, else), realiza la operación seleccionada e imprime el resultado."
   ]
  },
  {
   "cell_type": "code",
   "execution_count": 7,
   "metadata": {},
   "outputs": [
    {
     "name": "stdout",
     "output_type": "stream",
     "text": [
      "Operaciones disponibles:\n",
      "1. Suma\n",
      "2. Resta\n",
      "3. Multiplicacion\n",
      "4. Division\n",
      "valor ingresado invalido\n"
     ]
    }
   ],
   "source": [
    "num1 = int(input('Ingrese el primer numero para operar'))\n",
    "num2 = int(input('Ingrese un segundo numero para operar'))\n",
    "\n",
    "print('Operaciones disponibles:')\n",
    "print('1. Suma')\n",
    "print('2. Resta')\n",
    "print('3. Multiplicacion')\n",
    "print('4. Division')\n",
    "\n",
    "operacion = int(input('Ingrese el indice de la operacion a realizar'))\n",
    "resultado = 0\n",
    "\n",
    "if operacion > 0 and operacion < 5:\n",
    "    if operacion == 1:\n",
    "        resultado = num1 + num2\n",
    "    elif operacion ==2:\n",
    "        resultado = num1 - num2\n",
    "    elif operacion == 3:\n",
    "        resultado = num1 * num2\n",
    "    elif operacion == 4:\n",
    "        resultado = num1 / num2\n",
    "    \n",
    "    print(f'El resultado de la operacion {operacion} entre los numeros {num1} y {num2} es {resultado}')\n",
    "else:\n",
    "    print('valor ingresado invalido')\n",
    "    \n"
   ]
  },
  {
   "cell_type": "markdown",
   "metadata": {},
   "source": [
    "### Contador de Números Pares e Impares\n",
    "Escribe un programa que recorra una lista de números del 1 al 20. Utilizando un bucle for, determina cuántos de estos números son pares y cuántos son impares. Al final, imprime la cantidad de números pares e impares"
   ]
  },
  {
   "cell_type": "code",
   "execution_count": 11,
   "metadata": {},
   "outputs": [
    {
     "name": "stdout",
     "output_type": "stream",
     "text": [
      "1\n",
      "2\n",
      "3\n",
      "4\n",
      "5\n",
      "6\n",
      "7\n",
      "8\n",
      "9\n",
      "10\n",
      "11\n",
      "12\n",
      "13\n",
      "14\n",
      "15\n",
      "16\n",
      "17\n",
      "18\n",
      "19\n",
      "20\n",
      "la cantidad total de numeros pares son 10\n",
      "la cantidad total de numeros impares son 10\n"
     ]
    }
   ],
   "source": [
    "pares = 0\n",
    "impar = 0\n",
    "for i in range(1,21):\n",
    "    print(i)\n",
    "    if i % 2 == 0:\n",
    "        pares = pares + 1\n",
    "    else:\n",
    "        impar = impar + 1\n",
    "        \n",
    "print(f'la cantidad total de numeros pares son {pares}')\n",
    "print(f'la cantidad total de numeros impares son {impar}')"
   ]
  },
  {
   "cell_type": "markdown",
   "metadata": {},
   "source": [
    "### Validación de Contraseña\n",
    "Pide al usuario que ingrese una contraseña. Utiliza un bucle while para seguir solicitando la contraseña hasta que coincida con una contraseña predefinida (por ejemplo, \"python123\"). Muestra un mensaje de éxito cuando la contraseña es correcta."
   ]
  },
  {
   "cell_type": "code",
   "execution_count": 1,
   "metadata": {},
   "outputs": [
    {
     "name": "stdout",
     "output_type": "stream",
     "text": [
      "contraseña incorrecta\n",
      "contraseña correcta\n"
     ]
    }
   ],
   "source": [
    "contraseña = 'python123'\n",
    "permiso = True\n",
    "\n",
    "while permiso:\n",
    "    contraseña_ingresada = (input('Ingrese la contraseña correcta'))\n",
    "    if contraseña_ingresada == contraseña:\n",
    "        permiso = False\n",
    "    else:\n",
    "        print('contraseña incorrecta')\n",
    "\n",
    "print('contraseña correcta')"
   ]
  }
 ],
 "metadata": {
  "kernelspec": {
   "display_name": "Python 3",
   "language": "python",
   "name": "python3"
  },
  "language_info": {
   "codemirror_mode": {
    "name": "ipython",
    "version": 3
   },
   "file_extension": ".py",
   "mimetype": "text/x-python",
   "name": "python",
   "nbconvert_exporter": "python",
   "pygments_lexer": "ipython3",
   "version": "3.12.0"
  }
 },
 "nbformat": 4,
 "nbformat_minor": 2
}
