{
 "cells": [
  {
   "cell_type": "markdown",
   "metadata": {},
   "source": [
    "### Calculadora\n",
    " Crea un programa que solicite al usuario dos números y una operación (suma, resta, multiplicación o división). Luego, utilizando estructuras condicionales (if, elif, else), realiza la operación seleccionada e imprime el resultado."
   ]
  },
  {
   "cell_type": "code",
   "execution_count": 7,
   "metadata": {},
   "outputs": [
    {
     "name": "stdout",
     "output_type": "stream",
     "text": [
      "Operaciones disponibles:\n",
      "1. Suma\n",
      "2. Resta\n",
      "3. Multiplicacion\n",
      "4. Division\n",
      "valor ingresado invalido\n"
     ]
    }
   ],
   "source": [
    "num1 = int(input('Ingrese el primer numero para operar'))\n",
    "num2 = int(input('Ingrese un segundo numero para operar'))\n",
    "\n",
    "print('Operaciones disponibles:')\n",
    "print('1. Suma')\n",
    "print('2. Resta')\n",
    "print('3. Multiplicacion')\n",
    "print('4. Division')\n",
    "\n",
    "operacion = int(input('Ingrese el indice de la operacion a realizar'))\n",
    "resultado = 0\n",
    "\n",
    "if operacion > 0 and operacion < 5:\n",
    "    if operacion == 1:\n",
    "        resultado = num1 + num2\n",
    "    elif operacion ==2:\n",
    "        resultado = num1 - num2\n",
    "    elif operacion == 3:\n",
    "        resultado = num1 * num2\n",
    "    elif operacion == 4:\n",
    "        resultado = num1 / num2\n",
    "    \n",
    "    print(f'El resultado de la operacion {operacion} entre los numeros {num1} y {num2} es {resultado}')\n",
    "else:\n",
    "    print('valor ingresado invalido')\n",
    "    \n"
   ]
  },
  {
   "cell_type": "markdown",
   "metadata": {},
   "source": [
    "### Contador de Números Pares e Impares\n",
    "Escribe un programa que recorra una lista de números del 1 al 20. Utilizando un bucle for, determina cuántos de estos números son pares y cuántos son impares. Al final, imprime la cantidad de números pares e impares"
   ]
  },
  {
   "cell_type": "code",
   "execution_count": 11,
   "metadata": {},
   "outputs": [
    {
     "name": "stdout",
     "output_type": "stream",
     "text": [
      "1\n",
      "2\n",
      "3\n",
      "4\n",
      "5\n",
      "6\n",
      "7\n",
      "8\n",
      "9\n",
      "10\n",
      "11\n",
      "12\n",
      "13\n",
      "14\n",
      "15\n",
      "16\n",
      "17\n",
      "18\n",
      "19\n",
      "20\n",
      "la cantidad total de numeros pares son 10\n",
      "la cantidad total de numeros impares son 10\n"
     ]
    }
   ],
   "source": [
    "pares = 0\n",
    "impar = 0\n",
    "for i in range(1,21):\n",
    "    print(i)\n",
    "    if i % 2 == 0:\n",
    "        pares = pares + 1\n",
    "    else:\n",
    "        impar = impar + 1\n",
    "        \n",
    "print(f'la cantidad total de numeros pares son {pares}')\n",
    "print(f'la cantidad total de numeros impares son {impar}')"
   ]
  },
  {
   "cell_type": "markdown",
   "metadata": {},
   "source": [
    "### Validación de Contraseña\n",
    "Pide al usuario que ingrese una contraseña. Utiliza un bucle while para seguir solicitando la contraseña hasta que coincida con una contraseña predefinida (por ejemplo, \"python123\"). Muestra un mensaje de éxito cuando la contraseña es correcta."
   ]
  },
  {
   "cell_type": "code",
   "execution_count": 1,
   "metadata": {},
   "outputs": [
    {
     "name": "stdout",
     "output_type": "stream",
     "text": [
      "contraseña incorrecta\n",
      "contraseña correcta\n"
     ]
    }
   ],
   "source": [
    "contraseña = 'python123'\n",
    "permiso = True\n",
    "\n",
    "while permiso:\n",
    "    contraseña_ingresada = (input('Ingrese la contraseña correcta'))\n",
    "    if contraseña_ingresada == contraseña:\n",
    "        permiso = False\n",
    "    else:\n",
    "        print('contraseña incorrecta')\n",
    "\n",
    "print('contraseña correcta')"
   ]
  },
  {
   "cell_type": "markdown",
   "metadata": {},
   "source": [
    "### Identificador de Números Primos\n",
    "Crea un programa que solicite al usuario un número entero. Utilizando un bucle for, verifica si el número es primo (es decir, solo divisible por 1 y por sí mismo). Imprime un mensaje indicando si el número es primo o no."
   ]
  },
  {
   "cell_type": "code",
   "execution_count": 9,
   "metadata": {},
   "outputs": [
    {
     "name": "stdout",
     "output_type": "stream",
     "text": [
      "no es un numero primo\n"
     ]
    }
   ],
   "source": [
    "num = int(input('Ingrese un numero para comprobar si es un numero primo'))\n",
    "limite = num + 1\n",
    "contador = 0\n",
    "\n",
    "for i in range(1,limite):\n",
    "    if num % i == 0:\n",
    "        contador = contador + 1\n",
    "        \n",
    "if contador == 2:\n",
    "    print('es un numero primo')\n",
    "else:\n",
    "    print('no es un numero primo')"
   ]
  },
  {
   "cell_type": "markdown",
   "metadata": {},
   "source": [
    "### Juego de Adivinanza\n",
    "Genera un número aleatorio entre 1 y 50. Pide al usuario que adivine el número. Utiliza un bucle while para permitir múltiples intentos. Da pistas al usuario si el número ingresado es demasiado alto o bajo. Finaliza el juego cuando el usuario adivine correctamente."
   ]
  },
  {
   "cell_type": "code",
   "execution_count": 11,
   "metadata": {},
   "outputs": [],
   "source": [
    "import random"
   ]
  },
  {
   "cell_type": "code",
   "execution_count": 14,
   "metadata": {},
   "outputs": [
    {
     "name": "stdout",
     "output_type": "stream",
     "text": [
      "tu numero es muy pequeño\n",
      "tu numero es muy pequeño\n",
      "tu numero es muy pequeño\n",
      "tu numero es muy pequeño\n",
      "¡adivinaste! Solo te toma 4 intentos\n"
     ]
    }
   ],
   "source": [
    "aleatorio = random.randint(1,10)\n",
    "intentos = 0\n",
    "adivino = True\n",
    "\n",
    "while adivino:\n",
    "    j = int(input('Intenta adivinar el numero elegido por la maquina, entre 1 al 50'))\n",
    "    if j == aleatorio:\n",
    "        adivino = False\n",
    "    else:\n",
    "        intentos = intentos + 1\n",
    "    \n",
    "    if j > aleatorio:\n",
    "        print('tu numero es muy grande')\n",
    "    elif j < aleatorio:\n",
    "        print('tu numero es muy pequeño')\n",
    "        \n",
    "print(f'¡adivinaste! Solo te toma {intentos} intentos')"
   ]
  },
  {
   "cell_type": "markdown",
   "metadata": {},
   "source": [
    "### Tabla de Multiplicar\n",
    "Pide al usuario que ingrese un número entero. Utiliza un bucle for para imprimir la tabla de multiplicar de ese número del 1 al 10. Por ejemplo, si el usuario ingresa 7, el programa debe imprimir:"
   ]
  },
  {
   "cell_type": "markdown",
   "metadata": {},
   "source": []
  },
  {
   "cell_type": "code",
   "execution_count": 23,
   "metadata": {},
   "outputs": [
    {
     "name": "stdout",
     "output_type": "stream",
     "text": [
      "1 x 4 = 4\n",
      "2 x 4 = 8\n",
      "3 x 4 = 12\n",
      "4 x 4 = 16\n",
      "5 x 4 = 20\n",
      "6 x 4 = 24\n",
      "7 x 4 = 28\n",
      "8 x 4 = 32\n",
      "9 x 4 = 36\n",
      "10 x 4 = 40\n"
     ]
    }
   ],
   "source": [
    "resultado = 0\n",
    "num = int(input('ingresa un numero para ver su tabla del 1 al 10'))\n",
    "\n",
    "for i in range(1,11):\n",
    "    resultado = i * num\n",
    "    print(f'{i} x {num} = {resultado}')\n",
    "    resultado = 0\n",
    "    "
   ]
  }
 ],
 "metadata": {
  "kernelspec": {
   "display_name": "Python 3",
   "language": "python",
   "name": "python3"
  },
  "language_info": {
   "codemirror_mode": {
    "name": "ipython",
    "version": 3
   },
   "file_extension": ".py",
   "mimetype": "text/x-python",
   "name": "python",
   "nbconvert_exporter": "python",
   "pygments_lexer": "ipython3",
   "version": "3.12.0"
  }
 },
 "nbformat": 4,
 "nbformat_minor": 2
}
